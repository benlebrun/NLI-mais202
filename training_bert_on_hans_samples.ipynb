{
  "nbformat": 4,
  "nbformat_minor": 0,
  "metadata": {
    "colab": {
      "name": "training_bert_on_hans_samples.ipynb",
      "provenance": [],
      "collapsed_sections": []
    },
    "kernelspec": {
      "name": "python3",
      "display_name": "Python 3"
    },
    "accelerator": "GPU",
    "widgets": {
      "application/vnd.jupyter.widget-state+json": {
        "3d75bf75c92e463b928fad2b681776e5": {
          "model_module": "@jupyter-widgets/controls",
          "model_name": "HBoxModel",
          "state": {
            "_view_name": "HBoxView",
            "_dom_classes": [],
            "_model_name": "HBoxModel",
            "_view_module": "@jupyter-widgets/controls",
            "_model_module_version": "1.5.0",
            "_view_count": null,
            "_view_module_version": "1.5.0",
            "box_style": "",
            "layout": "IPY_MODEL_455e95f7ad28449f83faad69e77a9992",
            "_model_module": "@jupyter-widgets/controls",
            "children": [
              "IPY_MODEL_56526920062140278d3297b8d63d0a29",
              "IPY_MODEL_7fe6b076048f431aae66eb7505929a6f"
            ]
          }
        },
        "455e95f7ad28449f83faad69e77a9992": {
          "model_module": "@jupyter-widgets/base",
          "model_name": "LayoutModel",
          "state": {
            "_view_name": "LayoutView",
            "grid_template_rows": null,
            "right": null,
            "justify_content": null,
            "_view_module": "@jupyter-widgets/base",
            "overflow": null,
            "_model_module_version": "1.2.0",
            "_view_count": null,
            "flex_flow": null,
            "width": null,
            "min_width": null,
            "border": null,
            "align_items": null,
            "bottom": null,
            "_model_module": "@jupyter-widgets/base",
            "top": null,
            "grid_column": null,
            "overflow_y": null,
            "overflow_x": null,
            "grid_auto_flow": null,
            "grid_area": null,
            "grid_template_columns": null,
            "flex": null,
            "_model_name": "LayoutModel",
            "justify_items": null,
            "grid_row": null,
            "max_height": null,
            "align_content": null,
            "visibility": null,
            "align_self": null,
            "height": null,
            "min_height": null,
            "padding": null,
            "grid_auto_rows": null,
            "grid_gap": null,
            "max_width": null,
            "order": null,
            "_view_module_version": "1.2.0",
            "grid_template_areas": null,
            "object_position": null,
            "object_fit": null,
            "grid_auto_columns": null,
            "margin": null,
            "display": null,
            "left": null
          }
        },
        "56526920062140278d3297b8d63d0a29": {
          "model_module": "@jupyter-widgets/controls",
          "model_name": "IntProgressModel",
          "state": {
            "_view_name": "ProgressView",
            "style": "IPY_MODEL_82d0ab7733d7419c8fd06ace3f5ccc1b",
            "_dom_classes": [],
            "description": "Downloading",
            "_model_name": "IntProgressModel",
            "bar_style": "success",
            "max": 231508,
            "_view_module": "@jupyter-widgets/controls",
            "_model_module_version": "1.5.0",
            "value": 231508,
            "_view_count": null,
            "_view_module_version": "1.5.0",
            "orientation": "horizontal",
            "min": 0,
            "description_tooltip": null,
            "_model_module": "@jupyter-widgets/controls",
            "layout": "IPY_MODEL_3bf93f5e40ae4b99b3ba785a1b55cee2"
          }
        },
        "7fe6b076048f431aae66eb7505929a6f": {
          "model_module": "@jupyter-widgets/controls",
          "model_name": "HTMLModel",
          "state": {
            "_view_name": "HTMLView",
            "style": "IPY_MODEL_7e03db8fc78646e0a6242ecc2bd689b0",
            "_dom_classes": [],
            "description": "",
            "_model_name": "HTMLModel",
            "placeholder": "​",
            "_view_module": "@jupyter-widgets/controls",
            "_model_module_version": "1.5.0",
            "value": "100% 232k/232k [00:00&lt;00:00, 907kB/s]",
            "_view_count": null,
            "_view_module_version": "1.5.0",
            "description_tooltip": null,
            "_model_module": "@jupyter-widgets/controls",
            "layout": "IPY_MODEL_730b6cb51e0c491cbd6fe391c5f257cc"
          }
        },
        "82d0ab7733d7419c8fd06ace3f5ccc1b": {
          "model_module": "@jupyter-widgets/controls",
          "model_name": "ProgressStyleModel",
          "state": {
            "_view_name": "StyleView",
            "_model_name": "ProgressStyleModel",
            "description_width": "initial",
            "_view_module": "@jupyter-widgets/base",
            "_model_module_version": "1.5.0",
            "_view_count": null,
            "_view_module_version": "1.2.0",
            "bar_color": null,
            "_model_module": "@jupyter-widgets/controls"
          }
        },
        "3bf93f5e40ae4b99b3ba785a1b55cee2": {
          "model_module": "@jupyter-widgets/base",
          "model_name": "LayoutModel",
          "state": {
            "_view_name": "LayoutView",
            "grid_template_rows": null,
            "right": null,
            "justify_content": null,
            "_view_module": "@jupyter-widgets/base",
            "overflow": null,
            "_model_module_version": "1.2.0",
            "_view_count": null,
            "flex_flow": null,
            "width": null,
            "min_width": null,
            "border": null,
            "align_items": null,
            "bottom": null,
            "_model_module": "@jupyter-widgets/base",
            "top": null,
            "grid_column": null,
            "overflow_y": null,
            "overflow_x": null,
            "grid_auto_flow": null,
            "grid_area": null,
            "grid_template_columns": null,
            "flex": null,
            "_model_name": "LayoutModel",
            "justify_items": null,
            "grid_row": null,
            "max_height": null,
            "align_content": null,
            "visibility": null,
            "align_self": null,
            "height": null,
            "min_height": null,
            "padding": null,
            "grid_auto_rows": null,
            "grid_gap": null,
            "max_width": null,
            "order": null,
            "_view_module_version": "1.2.0",
            "grid_template_areas": null,
            "object_position": null,
            "object_fit": null,
            "grid_auto_columns": null,
            "margin": null,
            "display": null,
            "left": null
          }
        },
        "7e03db8fc78646e0a6242ecc2bd689b0": {
          "model_module": "@jupyter-widgets/controls",
          "model_name": "DescriptionStyleModel",
          "state": {
            "_view_name": "StyleView",
            "_model_name": "DescriptionStyleModel",
            "description_width": "",
            "_view_module": "@jupyter-widgets/base",
            "_model_module_version": "1.5.0",
            "_view_count": null,
            "_view_module_version": "1.2.0",
            "_model_module": "@jupyter-widgets/controls"
          }
        },
        "730b6cb51e0c491cbd6fe391c5f257cc": {
          "model_module": "@jupyter-widgets/base",
          "model_name": "LayoutModel",
          "state": {
            "_view_name": "LayoutView",
            "grid_template_rows": null,
            "right": null,
            "justify_content": null,
            "_view_module": "@jupyter-widgets/base",
            "overflow": null,
            "_model_module_version": "1.2.0",
            "_view_count": null,
            "flex_flow": null,
            "width": null,
            "min_width": null,
            "border": null,
            "align_items": null,
            "bottom": null,
            "_model_module": "@jupyter-widgets/base",
            "top": null,
            "grid_column": null,
            "overflow_y": null,
            "overflow_x": null,
            "grid_auto_flow": null,
            "grid_area": null,
            "grid_template_columns": null,
            "flex": null,
            "_model_name": "LayoutModel",
            "justify_items": null,
            "grid_row": null,
            "max_height": null,
            "align_content": null,
            "visibility": null,
            "align_self": null,
            "height": null,
            "min_height": null,
            "padding": null,
            "grid_auto_rows": null,
            "grid_gap": null,
            "max_width": null,
            "order": null,
            "_view_module_version": "1.2.0",
            "grid_template_areas": null,
            "object_position": null,
            "object_fit": null,
            "grid_auto_columns": null,
            "margin": null,
            "display": null,
            "left": null
          }
        },
        "0d3ca6490b2d474cb5a4cd397b6538e5": {
          "model_module": "@jupyter-widgets/controls",
          "model_name": "HBoxModel",
          "state": {
            "_view_name": "HBoxView",
            "_dom_classes": [],
            "_model_name": "HBoxModel",
            "_view_module": "@jupyter-widgets/controls",
            "_model_module_version": "1.5.0",
            "_view_count": null,
            "_view_module_version": "1.5.0",
            "box_style": "",
            "layout": "IPY_MODEL_b0c51e7e6d2c4e97804c8d3d645981a7",
            "_model_module": "@jupyter-widgets/controls",
            "children": [
              "IPY_MODEL_1b90b845c70d45eba364f5a4f1c678dd",
              "IPY_MODEL_e4ca67e90042444e9686513fb0fe6ec7"
            ]
          }
        },
        "b0c51e7e6d2c4e97804c8d3d645981a7": {
          "model_module": "@jupyter-widgets/base",
          "model_name": "LayoutModel",
          "state": {
            "_view_name": "LayoutView",
            "grid_template_rows": null,
            "right": null,
            "justify_content": null,
            "_view_module": "@jupyter-widgets/base",
            "overflow": null,
            "_model_module_version": "1.2.0",
            "_view_count": null,
            "flex_flow": null,
            "width": null,
            "min_width": null,
            "border": null,
            "align_items": null,
            "bottom": null,
            "_model_module": "@jupyter-widgets/base",
            "top": null,
            "grid_column": null,
            "overflow_y": null,
            "overflow_x": null,
            "grid_auto_flow": null,
            "grid_area": null,
            "grid_template_columns": null,
            "flex": null,
            "_model_name": "LayoutModel",
            "justify_items": null,
            "grid_row": null,
            "max_height": null,
            "align_content": null,
            "visibility": null,
            "align_self": null,
            "height": null,
            "min_height": null,
            "padding": null,
            "grid_auto_rows": null,
            "grid_gap": null,
            "max_width": null,
            "order": null,
            "_view_module_version": "1.2.0",
            "grid_template_areas": null,
            "object_position": null,
            "object_fit": null,
            "grid_auto_columns": null,
            "margin": null,
            "display": null,
            "left": null
          }
        },
        "1b90b845c70d45eba364f5a4f1c678dd": {
          "model_module": "@jupyter-widgets/controls",
          "model_name": "IntProgressModel",
          "state": {
            "_view_name": "ProgressView",
            "style": "IPY_MODEL_6d401be76646446d86cefd7e23111f03",
            "_dom_classes": [],
            "description": "Downloading",
            "_model_name": "IntProgressModel",
            "bar_style": "success",
            "max": 361,
            "_view_module": "@jupyter-widgets/controls",
            "_model_module_version": "1.5.0",
            "value": 361,
            "_view_count": null,
            "_view_module_version": "1.5.0",
            "orientation": "horizontal",
            "min": 0,
            "description_tooltip": null,
            "_model_module": "@jupyter-widgets/controls",
            "layout": "IPY_MODEL_4a749feafb134387afe7631237f92abd"
          }
        },
        "e4ca67e90042444e9686513fb0fe6ec7": {
          "model_module": "@jupyter-widgets/controls",
          "model_name": "HTMLModel",
          "state": {
            "_view_name": "HTMLView",
            "style": "IPY_MODEL_279778105449482e8dfebc49bcaf8b61",
            "_dom_classes": [],
            "description": "",
            "_model_name": "HTMLModel",
            "placeholder": "​",
            "_view_module": "@jupyter-widgets/controls",
            "_model_module_version": "1.5.0",
            "value": "100% 361/361 [00:00&lt;00:00, 11.3kB/s]",
            "_view_count": null,
            "_view_module_version": "1.5.0",
            "description_tooltip": null,
            "_model_module": "@jupyter-widgets/controls",
            "layout": "IPY_MODEL_b1ecbfe6ef8948229466cb09f45abe57"
          }
        },
        "6d401be76646446d86cefd7e23111f03": {
          "model_module": "@jupyter-widgets/controls",
          "model_name": "ProgressStyleModel",
          "state": {
            "_view_name": "StyleView",
            "_model_name": "ProgressStyleModel",
            "description_width": "initial",
            "_view_module": "@jupyter-widgets/base",
            "_model_module_version": "1.5.0",
            "_view_count": null,
            "_view_module_version": "1.2.0",
            "bar_color": null,
            "_model_module": "@jupyter-widgets/controls"
          }
        },
        "4a749feafb134387afe7631237f92abd": {
          "model_module": "@jupyter-widgets/base",
          "model_name": "LayoutModel",
          "state": {
            "_view_name": "LayoutView",
            "grid_template_rows": null,
            "right": null,
            "justify_content": null,
            "_view_module": "@jupyter-widgets/base",
            "overflow": null,
            "_model_module_version": "1.2.0",
            "_view_count": null,
            "flex_flow": null,
            "width": null,
            "min_width": null,
            "border": null,
            "align_items": null,
            "bottom": null,
            "_model_module": "@jupyter-widgets/base",
            "top": null,
            "grid_column": null,
            "overflow_y": null,
            "overflow_x": null,
            "grid_auto_flow": null,
            "grid_area": null,
            "grid_template_columns": null,
            "flex": null,
            "_model_name": "LayoutModel",
            "justify_items": null,
            "grid_row": null,
            "max_height": null,
            "align_content": null,
            "visibility": null,
            "align_self": null,
            "height": null,
            "min_height": null,
            "padding": null,
            "grid_auto_rows": null,
            "grid_gap": null,
            "max_width": null,
            "order": null,
            "_view_module_version": "1.2.0",
            "grid_template_areas": null,
            "object_position": null,
            "object_fit": null,
            "grid_auto_columns": null,
            "margin": null,
            "display": null,
            "left": null
          }
        },
        "279778105449482e8dfebc49bcaf8b61": {
          "model_module": "@jupyter-widgets/controls",
          "model_name": "DescriptionStyleModel",
          "state": {
            "_view_name": "StyleView",
            "_model_name": "DescriptionStyleModel",
            "description_width": "",
            "_view_module": "@jupyter-widgets/base",
            "_model_module_version": "1.5.0",
            "_view_count": null,
            "_view_module_version": "1.2.0",
            "_model_module": "@jupyter-widgets/controls"
          }
        },
        "b1ecbfe6ef8948229466cb09f45abe57": {
          "model_module": "@jupyter-widgets/base",
          "model_name": "LayoutModel",
          "state": {
            "_view_name": "LayoutView",
            "grid_template_rows": null,
            "right": null,
            "justify_content": null,
            "_view_module": "@jupyter-widgets/base",
            "overflow": null,
            "_model_module_version": "1.2.0",
            "_view_count": null,
            "flex_flow": null,
            "width": null,
            "min_width": null,
            "border": null,
            "align_items": null,
            "bottom": null,
            "_model_module": "@jupyter-widgets/base",
            "top": null,
            "grid_column": null,
            "overflow_y": null,
            "overflow_x": null,
            "grid_auto_flow": null,
            "grid_area": null,
            "grid_template_columns": null,
            "flex": null,
            "_model_name": "LayoutModel",
            "justify_items": null,
            "grid_row": null,
            "max_height": null,
            "align_content": null,
            "visibility": null,
            "align_self": null,
            "height": null,
            "min_height": null,
            "padding": null,
            "grid_auto_rows": null,
            "grid_gap": null,
            "max_width": null,
            "order": null,
            "_view_module_version": "1.2.0",
            "grid_template_areas": null,
            "object_position": null,
            "object_fit": null,
            "grid_auto_columns": null,
            "margin": null,
            "display": null,
            "left": null
          }
        },
        "9f968db933444b628c5750a71a200663": {
          "model_module": "@jupyter-widgets/controls",
          "model_name": "HBoxModel",
          "state": {
            "_view_name": "HBoxView",
            "_dom_classes": [],
            "_model_name": "HBoxModel",
            "_view_module": "@jupyter-widgets/controls",
            "_model_module_version": "1.5.0",
            "_view_count": null,
            "_view_module_version": "1.5.0",
            "box_style": "",
            "layout": "IPY_MODEL_d7035a96993f493d9b4ec2e2f7773571",
            "_model_module": "@jupyter-widgets/controls",
            "children": [
              "IPY_MODEL_995ef939d5f24050bcf2e401077d8239",
              "IPY_MODEL_0a9a7f667c9a4514af9d50be56e8e6ce"
            ]
          }
        },
        "d7035a96993f493d9b4ec2e2f7773571": {
          "model_module": "@jupyter-widgets/base",
          "model_name": "LayoutModel",
          "state": {
            "_view_name": "LayoutView",
            "grid_template_rows": null,
            "right": null,
            "justify_content": null,
            "_view_module": "@jupyter-widgets/base",
            "overflow": null,
            "_model_module_version": "1.2.0",
            "_view_count": null,
            "flex_flow": null,
            "width": null,
            "min_width": null,
            "border": null,
            "align_items": null,
            "bottom": null,
            "_model_module": "@jupyter-widgets/base",
            "top": null,
            "grid_column": null,
            "overflow_y": null,
            "overflow_x": null,
            "grid_auto_flow": null,
            "grid_area": null,
            "grid_template_columns": null,
            "flex": null,
            "_model_name": "LayoutModel",
            "justify_items": null,
            "grid_row": null,
            "max_height": null,
            "align_content": null,
            "visibility": null,
            "align_self": null,
            "height": null,
            "min_height": null,
            "padding": null,
            "grid_auto_rows": null,
            "grid_gap": null,
            "max_width": null,
            "order": null,
            "_view_module_version": "1.2.0",
            "grid_template_areas": null,
            "object_position": null,
            "object_fit": null,
            "grid_auto_columns": null,
            "margin": null,
            "display": null,
            "left": null
          }
        },
        "995ef939d5f24050bcf2e401077d8239": {
          "model_module": "@jupyter-widgets/controls",
          "model_name": "IntProgressModel",
          "state": {
            "_view_name": "ProgressView",
            "style": "IPY_MODEL_6711290a120042c690f794383f942110",
            "_dom_classes": [],
            "description": "Downloading",
            "_model_name": "IntProgressModel",
            "bar_style": "success",
            "max": 440473133,
            "_view_module": "@jupyter-widgets/controls",
            "_model_module_version": "1.5.0",
            "value": 440473133,
            "_view_count": null,
            "_view_module_version": "1.5.0",
            "orientation": "horizontal",
            "min": 0,
            "description_tooltip": null,
            "_model_module": "@jupyter-widgets/controls",
            "layout": "IPY_MODEL_e1b610ca2b19414b8311cbdaa80221bc"
          }
        },
        "0a9a7f667c9a4514af9d50be56e8e6ce": {
          "model_module": "@jupyter-widgets/controls",
          "model_name": "HTMLModel",
          "state": {
            "_view_name": "HTMLView",
            "style": "IPY_MODEL_5ce564750cf148678c672d06e7d11f1b",
            "_dom_classes": [],
            "description": "",
            "_model_name": "HTMLModel",
            "placeholder": "​",
            "_view_module": "@jupyter-widgets/controls",
            "_model_module_version": "1.5.0",
            "value": "100% 440M/440M [00:17&lt;00:00, 24.6MB/s]",
            "_view_count": null,
            "_view_module_version": "1.5.0",
            "description_tooltip": null,
            "_model_module": "@jupyter-widgets/controls",
            "layout": "IPY_MODEL_3ff44e721f4c46c9a5157c997c9ebebb"
          }
        },
        "6711290a120042c690f794383f942110": {
          "model_module": "@jupyter-widgets/controls",
          "model_name": "ProgressStyleModel",
          "state": {
            "_view_name": "StyleView",
            "_model_name": "ProgressStyleModel",
            "description_width": "initial",
            "_view_module": "@jupyter-widgets/base",
            "_model_module_version": "1.5.0",
            "_view_count": null,
            "_view_module_version": "1.2.0",
            "bar_color": null,
            "_model_module": "@jupyter-widgets/controls"
          }
        },
        "e1b610ca2b19414b8311cbdaa80221bc": {
          "model_module": "@jupyter-widgets/base",
          "model_name": "LayoutModel",
          "state": {
            "_view_name": "LayoutView",
            "grid_template_rows": null,
            "right": null,
            "justify_content": null,
            "_view_module": "@jupyter-widgets/base",
            "overflow": null,
            "_model_module_version": "1.2.0",
            "_view_count": null,
            "flex_flow": null,
            "width": null,
            "min_width": null,
            "border": null,
            "align_items": null,
            "bottom": null,
            "_model_module": "@jupyter-widgets/base",
            "top": null,
            "grid_column": null,
            "overflow_y": null,
            "overflow_x": null,
            "grid_auto_flow": null,
            "grid_area": null,
            "grid_template_columns": null,
            "flex": null,
            "_model_name": "LayoutModel",
            "justify_items": null,
            "grid_row": null,
            "max_height": null,
            "align_content": null,
            "visibility": null,
            "align_self": null,
            "height": null,
            "min_height": null,
            "padding": null,
            "grid_auto_rows": null,
            "grid_gap": null,
            "max_width": null,
            "order": null,
            "_view_module_version": "1.2.0",
            "grid_template_areas": null,
            "object_position": null,
            "object_fit": null,
            "grid_auto_columns": null,
            "margin": null,
            "display": null,
            "left": null
          }
        },
        "5ce564750cf148678c672d06e7d11f1b": {
          "model_module": "@jupyter-widgets/controls",
          "model_name": "DescriptionStyleModel",
          "state": {
            "_view_name": "StyleView",
            "_model_name": "DescriptionStyleModel",
            "description_width": "",
            "_view_module": "@jupyter-widgets/base",
            "_model_module_version": "1.5.0",
            "_view_count": null,
            "_view_module_version": "1.2.0",
            "_model_module": "@jupyter-widgets/controls"
          }
        },
        "3ff44e721f4c46c9a5157c997c9ebebb": {
          "model_module": "@jupyter-widgets/base",
          "model_name": "LayoutModel",
          "state": {
            "_view_name": "LayoutView",
            "grid_template_rows": null,
            "right": null,
            "justify_content": null,
            "_view_module": "@jupyter-widgets/base",
            "overflow": null,
            "_model_module_version": "1.2.0",
            "_view_count": null,
            "flex_flow": null,
            "width": null,
            "min_width": null,
            "border": null,
            "align_items": null,
            "bottom": null,
            "_model_module": "@jupyter-widgets/base",
            "top": null,
            "grid_column": null,
            "overflow_y": null,
            "overflow_x": null,
            "grid_auto_flow": null,
            "grid_area": null,
            "grid_template_columns": null,
            "flex": null,
            "_model_name": "LayoutModel",
            "justify_items": null,
            "grid_row": null,
            "max_height": null,
            "align_content": null,
            "visibility": null,
            "align_self": null,
            "height": null,
            "min_height": null,
            "padding": null,
            "grid_auto_rows": null,
            "grid_gap": null,
            "max_width": null,
            "order": null,
            "_view_module_version": "1.2.0",
            "grid_template_areas": null,
            "object_position": null,
            "object_fit": null,
            "grid_auto_columns": null,
            "margin": null,
            "display": null,
            "left": null
          }
        }
      }
    }
  },
  "cells": [
    {
      "cell_type": "code",
      "metadata": {
        "id": "GqpkW7Y15Bia",
        "colab_type": "code",
        "colab": {
          "base_uri": "https://localhost:8080/",
          "height": 63
        },
        "outputId": "790805af-2a7a-462a-f8c7-73df0b9ec5ba"
      },
      "source": [
        "import tensorflow as tf\n",
        "import torch\n",
        "import pandas as pd\n",
        "import numpy as np\n",
        "import re"
      ],
      "execution_count": 1,
      "outputs": [
        {
          "output_type": "display_data",
          "data": {
            "text/html": [
              "<p style=\"color: red;\">\n",
              "The default version of TensorFlow in Colab will soon switch to TensorFlow 2.x.<br>\n",
              "We recommend you <a href=\"https://www.tensorflow.org/guide/migrate\" target=\"_blank\">upgrade</a> now \n",
              "or ensure your notebook will continue to use TensorFlow 1.x via the <code>%tensorflow_version 1.x</code> magic:\n",
              "<a href=\"https://colab.research.google.com/notebooks/tensorflow_version.ipynb\" target=\"_blank\">more info</a>.</p>\n"
            ],
            "text/plain": [
              "<IPython.core.display.HTML object>"
            ]
          },
          "metadata": {
            "tags": []
          }
        }
      ]
    },
    {
      "cell_type": "code",
      "metadata": {
        "id": "oo7kH7ht5KMp",
        "colab_type": "code",
        "colab": {}
      },
      "source": [
        "!pip install transformers"
      ],
      "execution_count": 0,
      "outputs": []
    },
    {
      "cell_type": "code",
      "metadata": {
        "id": "Q_S7BBvC5Pih",
        "colab_type": "code",
        "colab": {}
      },
      "source": [
        "!pip install transformers\n",
        "!pip install wget\n",
        "# unzipping glue datasets\n",
        "!unzip 60c2bdb54d156a41194446737ce03e2e-17b8dd0d724281ed7c3b2aeeda662b92809aadd5.zip"
      ],
      "execution_count": 0,
      "outputs": []
    },
    {
      "cell_type": "code",
      "metadata": {
        "id": "ujiIbO8N5W6K",
        "colab_type": "code",
        "colab": {}
      },
      "source": [
        "!python '/content/60c2bdb54d156a41194446737ce03e2e-17b8dd0d724281ed7c3b2aeeda662b92809aadd5/download_glue_data.py'"
      ],
      "execution_count": 0,
      "outputs": []
    },
    {
      "cell_type": "code",
      "metadata": {
        "id": "ERq4ocAx5HLd",
        "colab_type": "code",
        "colab": {
          "base_uri": "https://localhost:8080/",
          "height": 51
        },
        "outputId": "6fd3734b-8a79-4d61-b3b8-4ccba8739e85"
      },
      "source": [
        "# check for GPU\n",
        "device_name = tf.test.gpu_device_name()\n",
        "if device_name == '/device:GPU:0':\n",
        "    print('Found GPU at: {}'.format(device_name))\n",
        "else:\n",
        "    raise SystemError('GPU device not found')\n",
        "\n",
        "# use GPU\n",
        "device = torch.device(\"cuda\")\n",
        "# confirm\n",
        "print('We are using a ', torch.cuda.get_device_name(0))"
      ],
      "execution_count": 2,
      "outputs": [
        {
          "output_type": "stream",
          "text": [
            "Found GPU at: /device:GPU:0\n",
            "We are using a  Tesla T4\n"
          ],
          "name": "stdout"
        }
      ]
    },
    {
      "cell_type": "markdown",
      "metadata": {
        "id": "8xJCbII3MqOC",
        "colab_type": "text"
      },
      "source": [
        "-----\n",
        "### Randomly selecting 100 cases from each heuristic\n",
        "To do so, we re-factored our ```read_and_convert_hans``` function to ```read_and_convert_hans_2```"
      ]
    },
    {
      "cell_type": "code",
      "metadata": {
        "id": "ZxOGXZnqR_De",
        "colab_type": "code",
        "colab": {}
      },
      "source": [
        "from utils import read_and_convert_hans_2\n",
        "premises, hypotheses, pairIDs, gold_labels, heuristics, subcases, template = read_and_convert_hans_2('heuristics_train_set.txt')"
      ],
      "execution_count": 0,
      "outputs": []
    },
    {
      "cell_type": "code",
      "metadata": {
        "id": "eCk4jWOHUZBX",
        "colab_type": "code",
        "colab": {}
      },
      "source": [
        "df = pd.DataFrame()\n",
        "df['premise'] = premises\n",
        "df['hypothesis'] = hypotheses\n",
        "df['pairID'] = pairIDs\n",
        "df['gold_label'] = gold_labels\n",
        "df['heuristic'] = heuristics\n",
        "df['subcase'] = subcases\n",
        "df['template'] = template"
      ],
      "execution_count": 0,
      "outputs": []
    },
    {
      "cell_type": "code",
      "metadata": {
        "id": "WnJchFwmUrpB",
        "colab_type": "code",
        "colab": {}
      },
      "source": [
        "non_entail = df[df['gold_label'] == 'non-entailment']"
      ],
      "execution_count": 0,
      "outputs": []
    },
    {
      "cell_type": "code",
      "metadata": {
        "id": "bFAm5LO4VHbi",
        "colab_type": "code",
        "colab": {}
      },
      "source": [
        "entail = df[df['gold_label'] == 'entailment']"
      ],
      "execution_count": 0,
      "outputs": []
    },
    {
      "cell_type": "markdown",
      "metadata": {
        "id": "Woq_fUk0yxA1",
        "colab_type": "text"
      },
      "source": [
        "----- \n",
        "A function to randomly sample x subcase examples from HANS"
      ]
    },
    {
      "cell_type": "code",
      "metadata": {
        "id": "S8H1pflUVOqr",
        "colab_type": "code",
        "colab": {}
      },
      "source": [
        "# A function to randomly sample x subcase examples from HANS\n",
        "def get_hans_examples(df, amount):\n",
        "  output = pd.DataFrame()\n",
        "  # each subcase\n",
        "  for subcase in df['subcase'].unique():\n",
        "    sub_df = df[df['subcase'] == subcase]\n",
        "    templates = sub_df['template'].unique()\n",
        "    template_df = pd.DataFrame()\n",
        "    # equal distribution for each template\n",
        "    for template in templates:\n",
        "      sentences = sub_df[sub_df['template'] == template].sample(n=int(amount/len(templates)), random_state=72)\n",
        "      template_df = pd.concat([template_df,sentences])\n",
        "\n",
        "    # if not amount, randomly sample from full subcase rest \n",
        "    if len(template_df) != amount:\n",
        "      template_df = pd.concat([template_df,sub_df.sample(n=amount-len(template_df), random_state=72)])\n",
        "    output = pd.concat([output,template_df])\n",
        "\n",
        "  assert(len(output) == amount*15) # 15 subcases\n",
        "\n",
        "  # convert into lists required for HANS training\n",
        "  premises = []\n",
        "  hypotheses = []\n",
        "  pairIDs = []\n",
        "  gold_labels = []\n",
        "\n",
        "  premises = output['premise']\n",
        "  hypotheses = output['hypothesis']\n",
        "  pairIDs = output['pairID']\n",
        "  gold_labels = output['gold_label']\n",
        "\n",
        "  assert(len(pairIDs) == len(premises))\n",
        "  assert(len(premises) == len(hypotheses))\n",
        "  assert(len(pairIDs) == len(gold_labels))\n",
        "\n",
        "  return list(premises), list(hypotheses), list(pairIDs), list(gold_labels)"
      ],
      "execution_count": 0,
      "outputs": []
    },
    {
      "cell_type": "code",
      "metadata": {
        "id": "k81ByC2A5aI1",
        "colab_type": "code",
        "colab": {}
      },
      "source": [
        "#from utils import get_hans_examples\n",
        "hans_premises_e, hans_hypotheses_e, hans_pairIDs_e, hans_labels_e = get_hans_examples(entail, 100)\n",
        "hans_premises_n, hans_hypotheses_n, hans_pairIDs_n, hans_labels_n = get_hans_examples(non_entail, 100)"
      ],
      "execution_count": 0,
      "outputs": []
    },
    {
      "cell_type": "code",
      "metadata": {
        "id": "z21gnJC-1u2I",
        "colab_type": "code",
        "colab": {}
      },
      "source": [
        "hans_premises = hans_premises_e + hans_premises_n\n",
        "hans_hypotheses = hans_hypotheses_e + hans_hypotheses_n\n",
        "hans_labels = hans_labels_e + hans_labels_n"
      ],
      "execution_count": 0,
      "outputs": []
    },
    {
      "cell_type": "code",
      "metadata": {
        "id": "Yp7O_jsu5ZXI",
        "colab_type": "code",
        "colab": {}
      },
      "source": [
        "from utils import read_data\n",
        "# reading in MNLI dataset\n",
        "train_premises, train_hypotheses, train_labels = read_data('/content/glue_data/MNLI/train.tsv')\n",
        "val_premises, val_hypotheses, val_labels = read_data('/content/glue_data/MNLI/dev_matched.tsv')"
      ],
      "execution_count": 0,
      "outputs": []
    },
    {
      "cell_type": "code",
      "metadata": {
        "id": "4RUJbk8U5bqs",
        "colab_type": "code",
        "colab": {}
      },
      "source": [
        "train_premises = train_premises + hans_premises\n",
        "train_hypotheses = train_hypotheses + hans_hypotheses\n",
        "train_labels = train_labels + hans_labels"
      ],
      "execution_count": 0,
      "outputs": []
    },
    {
      "cell_type": "code",
      "metadata": {
        "id": "rn34EP7-5dAS",
        "colab_type": "code",
        "colab": {
          "base_uri": "https://localhost:8080/",
          "height": 66,
          "referenced_widgets": [
            "3d75bf75c92e463b928fad2b681776e5",
            "455e95f7ad28449f83faad69e77a9992",
            "56526920062140278d3297b8d63d0a29",
            "7fe6b076048f431aae66eb7505929a6f",
            "82d0ab7733d7419c8fd06ace3f5ccc1b",
            "3bf93f5e40ae4b99b3ba785a1b55cee2",
            "7e03db8fc78646e0a6242ecc2bd689b0",
            "730b6cb51e0c491cbd6fe391c5f257cc"
          ]
        },
        "outputId": "a1e20b4a-17c7-4642-9c6c-8b907f29bff3"
      },
      "source": [
        "from transformers import BertTokenizer\n",
        "# loading bert tokenizer\n",
        "tokenizer = BertTokenizer.from_pretrained('bert-base-uncased', do_lower_case=True)"
      ],
      "execution_count": 82,
      "outputs": [
        {
          "output_type": "display_data",
          "data": {
            "application/vnd.jupyter.widget-view+json": {
              "model_id": "3d75bf75c92e463b928fad2b681776e5",
              "version_minor": 0,
              "version_major": 2
            },
            "text/plain": [
              "HBox(children=(IntProgress(value=0, description='Downloading', max=231508, style=ProgressStyle(description_wid…"
            ]
          },
          "metadata": {
            "tags": []
          }
        },
        {
          "output_type": "stream",
          "text": [
            "\n"
          ],
          "name": "stdout"
        }
      ]
    },
    {
      "cell_type": "code",
      "metadata": {
        "id": "ccY7reUD5es4",
        "colab_type": "code",
        "colab": {}
      },
      "source": [
        "from utils import tokenize_sentences\n",
        "train_inputs, train_ids, train_masks = tokenize_sentences(train_premises, train_hypotheses, 128, tokenizer)\n",
        "val_inputs, val_ids, val_masks = tokenize_sentences(val_premises, val_hypotheses, 128, tokenizer)"
      ],
      "execution_count": 0,
      "outputs": []
    },
    {
      "cell_type": "code",
      "metadata": {
        "id": "lzCrmvHM5gKz",
        "colab_type": "code",
        "colab": {}
      },
      "source": [
        "from utils import tokenize_labels_hans\n",
        "train_labels = tokenize_labels_hans(train_labels, tokenizer)\n",
        "val_labels = tokenize_labels_hans(val_labels, tokenizer)"
      ],
      "execution_count": 0,
      "outputs": []
    },
    {
      "cell_type": "code",
      "metadata": {
        "id": "ILICkiUv5iDL",
        "colab_type": "code",
        "colab": {}
      },
      "source": [
        "train_inputs = torch.tensor(train_inputs)\n",
        "val_inputs = torch.tensor(val_inputs)"
      ],
      "execution_count": 0,
      "outputs": []
    },
    {
      "cell_type": "code",
      "metadata": {
        "id": "hbG_T9cY5kFG",
        "colab_type": "code",
        "colab": {}
      },
      "source": [
        "train_ids = torch.tensor(train_ids)\n",
        "val_ids = torch.tensor(val_ids)"
      ],
      "execution_count": 0,
      "outputs": []
    },
    {
      "cell_type": "code",
      "metadata": {
        "id": "-H7EAYPr5lyP",
        "colab_type": "code",
        "colab": {}
      },
      "source": [
        "train_masks = torch.tensor(train_masks)\n",
        "val_masks = torch.tensor(val_masks)"
      ],
      "execution_count": 0,
      "outputs": []
    },
    {
      "cell_type": "code",
      "metadata": {
        "id": "u_msxzm05m_L",
        "colab_type": "code",
        "colab": {}
      },
      "source": [
        "train_labels = torch.tensor(train_labels)\n",
        "val_labels = torch.tensor(val_labels)"
      ],
      "execution_count": 0,
      "outputs": []
    },
    {
      "cell_type": "code",
      "metadata": {
        "id": "MYBpHTss5odV",
        "colab_type": "code",
        "colab": {}
      },
      "source": [
        "from torch.utils.data import TensorDataset, DataLoader, RandomSampler, SequentialSampler\n",
        "batch_size = 32"
      ],
      "execution_count": 0,
      "outputs": []
    },
    {
      "cell_type": "code",
      "metadata": {
        "id": "9Vktz4sO5qON",
        "colab_type": "code",
        "colab": {}
      },
      "source": [
        "# Create DataLoader for training set\n",
        "train_data = TensorDataset(train_inputs, train_masks, train_ids, train_labels)\n",
        "train_sampler = RandomSampler(train_data)\n",
        "train_dataloader = DataLoader(train_data, sampler=train_sampler, batch_size=batch_size)\n",
        "\n",
        "# Create DataLoader for validation set\n",
        "validation_data = TensorDataset(val_inputs, val_masks, val_ids, val_labels)\n",
        "validation_sampler = SequentialSampler(validation_data)\n",
        "validation_dataloader = DataLoader(validation_data, sampler=validation_sampler, batch_size=batch_size)"
      ],
      "execution_count": 0,
      "outputs": []
    },
    {
      "cell_type": "code",
      "metadata": {
        "id": "BoKm2VNB5rrc",
        "colab_type": "code",
        "colab": {
          "base_uri": "https://localhost:8080/",
          "height": 115,
          "referenced_widgets": [
            "0d3ca6490b2d474cb5a4cd397b6538e5",
            "b0c51e7e6d2c4e97804c8d3d645981a7",
            "1b90b845c70d45eba364f5a4f1c678dd",
            "e4ca67e90042444e9686513fb0fe6ec7",
            "6d401be76646446d86cefd7e23111f03",
            "4a749feafb134387afe7631237f92abd",
            "279778105449482e8dfebc49bcaf8b61",
            "b1ecbfe6ef8948229466cb09f45abe57",
            "9f968db933444b628c5750a71a200663",
            "d7035a96993f493d9b4ec2e2f7773571",
            "995ef939d5f24050bcf2e401077d8239",
            "0a9a7f667c9a4514af9d50be56e8e6ce",
            "6711290a120042c690f794383f942110",
            "e1b610ca2b19414b8311cbdaa80221bc",
            "5ce564750cf148678c672d06e7d11f1b",
            "3ff44e721f4c46c9a5157c997c9ebebb"
          ]
        },
        "outputId": "aebd8017-5ec0-4f2f-946c-d21b8da6b7cf"
      },
      "source": [
        "from transformers import BertForSequenceClassification, AdamW, BertConfig\n",
        "\n",
        "model = BertForSequenceClassification.from_pretrained(\n",
        "    \"bert-base-uncased\", \n",
        "    num_labels = 2,  \n",
        "    output_attentions = False, \n",
        "    output_hidden_states = False, \n",
        ")\n",
        "\n",
        "# run model on GPU\n",
        "model.cuda()\n",
        "\n",
        "optimizer = AdamW(model.parameters(),\n",
        "                  lr = 2e-5, \n",
        "                  eps = 1e-8\n",
        "                )"
      ],
      "execution_count": 91,
      "outputs": [
        {
          "output_type": "display_data",
          "data": {
            "application/vnd.jupyter.widget-view+json": {
              "model_id": "0d3ca6490b2d474cb5a4cd397b6538e5",
              "version_minor": 0,
              "version_major": 2
            },
            "text/plain": [
              "HBox(children=(IntProgress(value=0, description='Downloading', max=361, style=ProgressStyle(description_width=…"
            ]
          },
          "metadata": {
            "tags": []
          }
        },
        {
          "output_type": "stream",
          "text": [
            "\n"
          ],
          "name": "stdout"
        },
        {
          "output_type": "display_data",
          "data": {
            "application/vnd.jupyter.widget-view+json": {
              "model_id": "9f968db933444b628c5750a71a200663",
              "version_minor": 0,
              "version_major": 2
            },
            "text/plain": [
              "HBox(children=(IntProgress(value=0, description='Downloading', max=440473133, style=ProgressStyle(description_…"
            ]
          },
          "metadata": {
            "tags": []
          }
        },
        {
          "output_type": "stream",
          "text": [
            "\n"
          ],
          "name": "stdout"
        }
      ]
    },
    {
      "cell_type": "code",
      "metadata": {
        "id": "r1UkovFx5tj3",
        "colab_type": "code",
        "colab": {}
      },
      "source": [
        "from transformers import get_linear_schedule_with_warmup\n",
        "\n",
        "# number of training epochs (authors recommend between 2 and 4)\n",
        "epochs = 1 # manually train 3 times to avoid GPU connection issues\n",
        "\n",
        "total_steps = len(train_dataloader)*epochs\n",
        "\n",
        "# create the learning rate scheduler\n",
        "scheduler = get_linear_schedule_with_warmup(optimizer, \n",
        "                                            num_warmup_steps = 0, # Default value in run_glue.py\n",
        "                                            num_training_steps = total_steps)"
      ],
      "execution_count": 0,
      "outputs": []
    },
    {
      "cell_type": "code",
      "metadata": {
        "id": "SxNxBmXr5vh1",
        "colab_type": "code",
        "colab": {}
      },
      "source": [
        "import re\n",
        "from utils import tokenize_sentences\n",
        "def read_and_convert_hans(filepath): \n",
        "  premises = []\n",
        "  hypotheses = []\n",
        "  pairIDs = []\n",
        "  gold_labels = []\n",
        "  first_line = True\n",
        "  with open(filepath) as file:\n",
        "    for fline in file:\n",
        "      line = re.split(r'\\t+', fline)\n",
        "      if first_line == True:\n",
        "        first_line = False\n",
        "        premises.append(line[5])\n",
        "        hypotheses.append(line[6])\n",
        "        continue\n",
        "      pairIDs.append(int(re.sub('ex', '', line[7])))\n",
        "      gold_labels.append(line[0])\n",
        "      premises.append(line[5])\n",
        "      hypotheses.append(line[6])\n",
        "    \n",
        "    #assert(len(pairIDs) == len(premises))\n",
        "    assert(len(premises) == len(hypotheses))\n",
        "    assert(len(pairIDs) == len(gold_labels))\n",
        "\n",
        "    return premises, hypotheses, pairIDs, gold_labels"
      ],
      "execution_count": 0,
      "outputs": []
    },
    {
      "cell_type": "code",
      "metadata": {
        "id": "aJPRulqF5x1a",
        "colab_type": "code",
        "colab": {
          "base_uri": "https://localhost:8080/",
          "height": 1000
        },
        "outputId": "7098a9f2-f0b4-425f-dcd0-cc86b8100e0c"
      },
      "source": [
        "import random\n",
        "import time\n",
        "import datetime\n",
        "import re\n",
        "import os\n",
        "from google.colab import files\n",
        "\n",
        "\n",
        "torch.set_default_dtype(torch.float64)\n",
        "\n",
        "seed = 72\n",
        "\n",
        "random.seed(seed)\n",
        "np.random.seed(seed)\n",
        "torch.manual_seed(seed)\n",
        "torch.cuda.manual_seed_all(seed)\n",
        "\n",
        "loss_values = []\n",
        "\n",
        "for epoch in range(0, epochs):\n",
        "  print('---------- Epoch %s ----------' % str(epoch))\n",
        "  # start clock\n",
        "  t0 = time.time()\n",
        "\n",
        "  # reset loss for epoch\n",
        "  total_loss = 0\n",
        "\n",
        "  # put model into training mode\n",
        "  model.train()\n",
        "\n",
        "  # for each batch of the training data\n",
        "  for step, batch in enumerate(train_dataloader):\n",
        "\n",
        "    if step % 100 == 0 and not step == 0:\n",
        "      time_elapsed = str(datetime.timedelta(seconds=int(round(time.time() - t0))))\n",
        "      print('\\t Batch %i of %i. Time elapsed: %s' % (step, len(train_dataloader), time_elapsed))\n",
        "    \n",
        "    # retrieve tensors from dataloader\n",
        "    # copy each to GPU using to(device)\n",
        "    input_ids = batch[0].to(device)\n",
        "    attention_mask = batch[1].to(device)\n",
        "    sequence_ids = batch[2].to(device)\n",
        "    labels = batch[3].to(device)\n",
        "\n",
        "    # clear previously calculated gradients\n",
        "    model.zero_grad()\n",
        "\n",
        "    # perform forward pass\n",
        "    # the loss is returned\n",
        "    outputs = model(\n",
        "        input_ids = input_ids.long(),\n",
        "        attention_mask = attention_mask.long(),\n",
        "        token_type_ids = sequence_ids.long(),\n",
        "        labels = labels.long()\n",
        "        )\n",
        "    \n",
        "    loss = outputs[0]\n",
        "    total_loss += loss.item()\n",
        "\n",
        "    # perform backward pass to calculate gradients\n",
        "    loss.backward()\n",
        "\n",
        "    # Clip the norm of the gradients to 1.0 to help prevent \"exploding gradients\" \n",
        "    torch.nn.utils.clip_grad_norm_(model.parameters(), 1.0)\n",
        "\n",
        "    # Update parameters and take a step using the computed gradient\n",
        "    optimizer.step()\n",
        "\n",
        "    # Update the learning rate\n",
        "    scheduler.step()\n",
        "\n",
        "  try:\n",
        "    # Saving best-practices: if you use defaults names for the model, you can reload it using from_pretrained()\n",
        "    output_dir = '/content/saved_model'\n",
        "    print(\"Saving model to %s\" % output_dir)\n",
        "    torch.save(model.state_dict(), output_dir)\n",
        "    torch.save(model, '/content/entire_model.pth')\n",
        "  except:\n",
        "    print('Saving Failed')\n",
        "\n",
        "  # Calculate the average loss over the training data.\n",
        "  avg_train_loss = total_loss / len(train_dataloader)\n",
        "  loss_values.append(avg_train_loss)\n",
        "\n",
        "  print('--- Average Training Loss: %f' % avg_train_loss)\n",
        "\n",
        "  # Measure performance on validation set\n",
        "  t0 = time.time()\n",
        "  model.eval()\n",
        "\n",
        "  try:\n",
        "    hans_premises, hans_hypotheses, hans_pairIDs, hans_labels = read_and_convert_hans('/content/heuristics_evaluation_set.txt')\n",
        "    test_inputs, test_ids, test_masks = tokenize_sentences(hans_premises, hans_hypotheses, 128, tokenizer)\n",
        "    test_inputs = torch.tensor(test_inputs)\n",
        "    test_ids = torch.tensor(test_ids)\n",
        "    test_masks = torch.tensor(test_masks)\n",
        "    hans_pairIDs = torch.tensor(hans_pairIDs)\n",
        "    test_data = TensorDataset(test_inputs, test_masks, test_ids, hans_pairIDs)\n",
        "    test_sampler = RandomSampler(test_data)\n",
        "    test_dataloader = DataLoader(test_data, sampler=test_sampler, batch_size=batch_size)\n",
        "    predictions = []\n",
        "    pair_ids = []\n",
        "\n",
        "    model.eval()\n",
        "\n",
        "    # Tracking variables \n",
        "    eval_loss, eval_accuracy = 0, 0\n",
        "    nb_eval_steps, nb_eval_examples = 0, 0\n",
        "\n",
        "    for batch in test_dataloader:\n",
        "\n",
        "        batch = tuple(t.to(device) for t in batch)\n",
        "              \n",
        "        # Unpack the inputs from dataloader\n",
        "        input_ids, attention_mask, sequence_ids, batch_pair_ids = batch\n",
        "\n",
        "        # no need for grad since evaluation\n",
        "        with torch.no_grad():        \n",
        "\n",
        "          outputs = model(input_ids = input_ids.long(),\n",
        "                              attention_mask = attention_mask.long(),\n",
        "                              token_type_ids = sequence_ids.long())\n",
        "              \n",
        "          logits = outputs[0]\n",
        "\n",
        "          # Move logits and labels to CPU\n",
        "          logits = logits.detach().cpu().numpy()\n",
        "          batch_pair_ids = batch_pair_ids.to('cpu').numpy()\n",
        "\n",
        "          for i in range(0,len(logits)): \n",
        "            sub_list = []\n",
        "            sub_list.append(float(logits[i][0]))\n",
        "            sub_list.append(float(logits[i][1]))\n",
        "            predictions.append(sub_list)\n",
        "            pair_ids.append('ex' + str(batch_pair_ids[i]))\n",
        "          \n",
        "    df = pd.DataFrame()\n",
        "    df['pairID'] = pair_ids\n",
        "    df['gold_label'] = predictions\n",
        "    df.to_csv('hans_predictions_post.csv', index=False)\n",
        "\n",
        "    print('---- HANS Testing Completed ----')\n",
        "  except:\n",
        "    print('---- HANS testing failed ----')\n",
        "\n",
        "  # Tracking variables \n",
        "  eval_loss, eval_accuracy = 0, 0\n",
        "  nb_eval_steps, nb_eval_examples = 0, 0\n",
        "\n",
        "  for batch in validation_dataloader:\n",
        "\n",
        "      batch = tuple(t.to(device) for t in batch)\n",
        "          \n",
        "      # Unpack the inputs from dataloader\n",
        "      input_ids, attention_mask, sequence_ids, labels = batch\n",
        "\n",
        "      # no need for grad since evaluation\n",
        "      with torch.no_grad():        \n",
        "\n",
        "        outputs = model(input_ids = input_ids.long(),\n",
        "                          attention_mask = attention_mask.long(),\n",
        "                          token_type_ids = sequence_ids.long())\n",
        "          \n",
        "        # Get the \"logits\" output by the model. The \"logits\" are the output\n",
        "        # values prior to applying an activation function like the softmax.\n",
        "        logits = outputs[0]\n",
        "\n",
        "        # Move logits and labels to CPU\n",
        "        logits = logits.detach().cpu().numpy()\n",
        "        label_ids = labels.to('cpu').numpy()\n",
        "          \n",
        "        # Calculate the accuracy for this batch of test sentences.\n",
        "        tmp_eval_accuracy = np.sum(np.argmax(logits, axis=1).flatten() == label_ids.flatten())/len(label_ids)\n",
        "          \n",
        "        # Accumulate the total accuracy.\n",
        "        eval_accuracy += tmp_eval_accuracy\n",
        "\n",
        "        # Track the number of batches\n",
        "        nb_eval_steps += 1\n",
        "\n",
        "  # Report the final accuracy for this validation run.\n",
        "  print(\"  Accuracy: {0:.2f}\".format(eval_accuracy/nb_eval_steps))\n",
        "  try:\n",
        "    print(\"  Validation took: {:}\".format((datetime.timedelta(seconds=int(round(time.time() - t0)))))) \n",
        "  except:\n",
        "    continue\n",
        "\n",
        "print('Training complete.')"
      ],
      "execution_count": 94,
      "outputs": [
        {
          "output_type": "stream",
          "text": [
            "---------- Epoch 0 ----------\n",
            "\t Batch 100 of 12366. Time elapsed: 0:01:11\n",
            "\t Batch 200 of 12366. Time elapsed: 0:02:22\n",
            "\t Batch 300 of 12366. Time elapsed: 0:03:33\n",
            "\t Batch 400 of 12366. Time elapsed: 0:04:44\n",
            "\t Batch 500 of 12366. Time elapsed: 0:05:54\n",
            "\t Batch 600 of 12366. Time elapsed: 0:07:05\n",
            "\t Batch 700 of 12366. Time elapsed: 0:08:16\n",
            "\t Batch 800 of 12366. Time elapsed: 0:09:27\n",
            "\t Batch 900 of 12366. Time elapsed: 0:10:38\n",
            "\t Batch 1000 of 12366. Time elapsed: 0:11:48\n",
            "\t Batch 1100 of 12366. Time elapsed: 0:12:59\n",
            "\t Batch 1200 of 12366. Time elapsed: 0:14:10\n",
            "\t Batch 1300 of 12366. Time elapsed: 0:15:21\n",
            "\t Batch 1400 of 12366. Time elapsed: 0:16:31\n",
            "\t Batch 1500 of 12366. Time elapsed: 0:17:42\n",
            "\t Batch 1600 of 12366. Time elapsed: 0:18:53\n",
            "\t Batch 1700 of 12366. Time elapsed: 0:20:03\n",
            "\t Batch 1800 of 12366. Time elapsed: 0:21:14\n",
            "\t Batch 1900 of 12366. Time elapsed: 0:22:25\n",
            "\t Batch 2000 of 12366. Time elapsed: 0:23:36\n",
            "\t Batch 2100 of 12366. Time elapsed: 0:24:46\n",
            "\t Batch 2200 of 12366. Time elapsed: 0:25:57\n",
            "\t Batch 2300 of 12366. Time elapsed: 0:27:08\n",
            "\t Batch 2400 of 12366. Time elapsed: 0:28:19\n",
            "\t Batch 2500 of 12366. Time elapsed: 0:29:29\n",
            "\t Batch 2600 of 12366. Time elapsed: 0:30:40\n",
            "\t Batch 2700 of 12366. Time elapsed: 0:31:50\n",
            "\t Batch 2800 of 12366. Time elapsed: 0:33:01\n",
            "\t Batch 2900 of 12366. Time elapsed: 0:34:11\n",
            "\t Batch 3000 of 12366. Time elapsed: 0:35:22\n",
            "\t Batch 3100 of 12366. Time elapsed: 0:36:33\n",
            "\t Batch 3200 of 12366. Time elapsed: 0:37:43\n",
            "\t Batch 3300 of 12366. Time elapsed: 0:38:54\n",
            "\t Batch 3400 of 12366. Time elapsed: 0:40:05\n",
            "\t Batch 3500 of 12366. Time elapsed: 0:41:16\n",
            "\t Batch 3600 of 12366. Time elapsed: 0:42:27\n",
            "\t Batch 3700 of 12366. Time elapsed: 0:43:37\n",
            "\t Batch 3800 of 12366. Time elapsed: 0:44:48\n",
            "\t Batch 3900 of 12366. Time elapsed: 0:45:59\n",
            "\t Batch 4000 of 12366. Time elapsed: 0:47:10\n",
            "\t Batch 4100 of 12366. Time elapsed: 0:48:20\n",
            "\t Batch 4200 of 12366. Time elapsed: 0:49:31\n",
            "\t Batch 4300 of 12366. Time elapsed: 0:50:42\n",
            "\t Batch 4400 of 12366. Time elapsed: 0:51:53\n",
            "\t Batch 4500 of 12366. Time elapsed: 0:53:03\n",
            "\t Batch 4600 of 12366. Time elapsed: 0:54:14\n",
            "\t Batch 4700 of 12366. Time elapsed: 0:55:25\n",
            "\t Batch 4800 of 12366. Time elapsed: 0:56:36\n",
            "\t Batch 4900 of 12366. Time elapsed: 0:57:47\n",
            "\t Batch 5000 of 12366. Time elapsed: 0:58:57\n",
            "\t Batch 5100 of 12366. Time elapsed: 1:00:08\n",
            "\t Batch 5200 of 12366. Time elapsed: 1:01:19\n",
            "\t Batch 5300 of 12366. Time elapsed: 1:02:30\n",
            "\t Batch 5400 of 12366. Time elapsed: 1:03:40\n",
            "\t Batch 5500 of 12366. Time elapsed: 1:04:51\n",
            "\t Batch 5600 of 12366. Time elapsed: 1:06:02\n",
            "\t Batch 5700 of 12366. Time elapsed: 1:07:13\n",
            "\t Batch 5800 of 12366. Time elapsed: 1:08:24\n",
            "\t Batch 5900 of 12366. Time elapsed: 1:09:34\n",
            "\t Batch 6000 of 12366. Time elapsed: 1:10:45\n",
            "\t Batch 6100 of 12366. Time elapsed: 1:11:56\n",
            "\t Batch 6200 of 12366. Time elapsed: 1:13:07\n",
            "\t Batch 6300 of 12366. Time elapsed: 1:14:17\n",
            "\t Batch 6400 of 12366. Time elapsed: 1:15:28\n",
            "\t Batch 6500 of 12366. Time elapsed: 1:16:39\n",
            "\t Batch 6600 of 12366. Time elapsed: 1:17:50\n",
            "\t Batch 6700 of 12366. Time elapsed: 1:19:01\n",
            "\t Batch 6800 of 12366. Time elapsed: 1:20:11\n",
            "\t Batch 6900 of 12366. Time elapsed: 1:21:22\n",
            "\t Batch 7000 of 12366. Time elapsed: 1:22:33\n",
            "\t Batch 7100 of 12366. Time elapsed: 1:23:44\n",
            "\t Batch 7200 of 12366. Time elapsed: 1:24:54\n",
            "\t Batch 7300 of 12366. Time elapsed: 1:26:05\n",
            "\t Batch 7400 of 12366. Time elapsed: 1:27:16\n",
            "\t Batch 7500 of 12366. Time elapsed: 1:28:27\n",
            "\t Batch 7600 of 12366. Time elapsed: 1:29:37\n",
            "\t Batch 7700 of 12366. Time elapsed: 1:30:48\n",
            "\t Batch 7800 of 12366. Time elapsed: 1:31:59\n",
            "\t Batch 7900 of 12366. Time elapsed: 1:33:10\n",
            "\t Batch 8000 of 12366. Time elapsed: 1:34:21\n",
            "\t Batch 8100 of 12366. Time elapsed: 1:35:31\n",
            "\t Batch 8200 of 12366. Time elapsed: 1:36:42\n",
            "\t Batch 8300 of 12366. Time elapsed: 1:37:53\n",
            "\t Batch 8400 of 12366. Time elapsed: 1:39:04\n",
            "\t Batch 8500 of 12366. Time elapsed: 1:40:15\n",
            "\t Batch 8600 of 12366. Time elapsed: 1:41:25\n",
            "\t Batch 8700 of 12366. Time elapsed: 1:42:36\n",
            "\t Batch 8800 of 12366. Time elapsed: 1:43:47\n",
            "\t Batch 8900 of 12366. Time elapsed: 1:44:58\n",
            "\t Batch 9000 of 12366. Time elapsed: 1:46:09\n",
            "\t Batch 9100 of 12366. Time elapsed: 1:47:20\n",
            "\t Batch 9200 of 12366. Time elapsed: 1:48:30\n",
            "\t Batch 9300 of 12366. Time elapsed: 1:49:41\n",
            "\t Batch 9400 of 12366. Time elapsed: 1:50:52\n",
            "\t Batch 9500 of 12366. Time elapsed: 1:52:03\n",
            "\t Batch 9600 of 12366. Time elapsed: 1:53:14\n",
            "\t Batch 9700 of 12366. Time elapsed: 1:54:24\n",
            "\t Batch 9800 of 12366. Time elapsed: 1:55:35\n",
            "\t Batch 9900 of 12366. Time elapsed: 1:56:45\n",
            "\t Batch 10000 of 12366. Time elapsed: 1:57:56\n",
            "\t Batch 10100 of 12366. Time elapsed: 1:59:06\n",
            "\t Batch 10200 of 12366. Time elapsed: 2:00:17\n",
            "\t Batch 10300 of 12366. Time elapsed: 2:01:27\n",
            "\t Batch 10400 of 12366. Time elapsed: 2:02:38\n",
            "\t Batch 10500 of 12366. Time elapsed: 2:03:49\n",
            "\t Batch 10600 of 12366. Time elapsed: 2:04:59\n",
            "\t Batch 10700 of 12366. Time elapsed: 2:06:10\n",
            "\t Batch 10800 of 12366. Time elapsed: 2:07:21\n",
            "\t Batch 10900 of 12366. Time elapsed: 2:08:32\n",
            "\t Batch 11000 of 12366. Time elapsed: 2:09:42\n",
            "\t Batch 11100 of 12366. Time elapsed: 2:10:53\n",
            "\t Batch 11200 of 12366. Time elapsed: 2:12:04\n",
            "\t Batch 11300 of 12366. Time elapsed: 2:13:15\n",
            "\t Batch 11400 of 12366. Time elapsed: 2:14:25\n",
            "\t Batch 11500 of 12366. Time elapsed: 2:15:36\n",
            "\t Batch 11600 of 12366. Time elapsed: 2:16:46\n",
            "\t Batch 11700 of 12366. Time elapsed: 2:17:57\n",
            "\t Batch 11800 of 12366. Time elapsed: 2:19:08\n",
            "\t Batch 11900 of 12366. Time elapsed: 2:20:19\n",
            "\t Batch 12000 of 12366. Time elapsed: 2:21:29\n",
            "\t Batch 12100 of 12366. Time elapsed: 2:22:40\n",
            "\t Batch 12200 of 12366. Time elapsed: 2:23:50\n",
            "\t Batch 12300 of 12366. Time elapsed: 2:25:01\n",
            "Saving model to /content/saved_model\n",
            "--- Average Training Loss: 0.288362\n",
            "---- HANS Testing Completed ----\n",
            "  Accuracy: 0.90\n",
            "  Validation took: 0:05:18\n",
            "Training complete.\n"
          ],
          "name": "stdout"
        }
      ]
    },
    {
      "cell_type": "code",
      "metadata": {
        "id": "5NFEdm6G51dZ",
        "colab_type": "code",
        "colab": {}
      },
      "source": [
        "import re\n",
        "from utils import tokenize_sentences\n",
        "def read_and_convert_hans(filepath): \n",
        "  premises = []\n",
        "  hypotheses = []\n",
        "  pairIDs = []\n",
        "  gold_labels = []\n",
        "  first_line = True\n",
        "  with open(filepath) as file:\n",
        "    for fline in file:\n",
        "      line = re.split(r'\\t+', fline)\n",
        "      if first_line == True:\n",
        "        first_line = False\n",
        "        premises.append(line[5])\n",
        "        hypotheses.append(line[6])\n",
        "        continue\n",
        "      pairIDs.append(int(re.sub('ex', '', line[7])))\n",
        "      gold_labels.append(line[0])\n",
        "      premises.append(line[5])\n",
        "      hypotheses.append(line[6])\n",
        "    \n",
        "    #assert(len(pairIDs) == len(premises))\n",
        "    assert(len(premises) == len(hypotheses))\n",
        "    assert(len(pairIDs) == len(gold_labels))\n",
        "\n",
        "    return premises, hypotheses, pairIDs, gold_labels"
      ],
      "execution_count": 0,
      "outputs": []
    },
    {
      "cell_type": "code",
      "metadata": {
        "id": "hHNPndNRiIa-",
        "colab_type": "code",
        "colab": {}
      },
      "source": [
        "hans_premises, hans_hypotheses, hans_pairIDs, hans_labels = read_and_convert_hans('/content/heuristics_evaluation_set.txt')"
      ],
      "execution_count": 0,
      "outputs": []
    },
    {
      "cell_type": "code",
      "metadata": {
        "id": "puUL1PepiK3M",
        "colab_type": "code",
        "colab": {}
      },
      "source": [
        "test_inputs, test_ids, test_masks = tokenize_sentences(hans_premises, hans_hypotheses, 128, tokenizer)"
      ],
      "execution_count": 0,
      "outputs": []
    },
    {
      "cell_type": "code",
      "metadata": {
        "id": "5OX3zVoliOOT",
        "colab_type": "code",
        "colab": {}
      },
      "source": [
        "test_inputs = torch.tensor(test_inputs)\n",
        "test_ids = torch.tensor(test_ids)\n",
        "test_masks = torch.tensor(test_masks)\n",
        "hans_pairIDs = torch.tensor(hans_pairIDs)"
      ],
      "execution_count": 0,
      "outputs": []
    },
    {
      "cell_type": "code",
      "metadata": {
        "id": "g2UxeiW2iQVW",
        "colab_type": "code",
        "colab": {}
      },
      "source": [
        "test_data = TensorDataset(test_inputs, test_masks, test_ids, hans_pairIDs)\n",
        "test_sampler = RandomSampler(test_data)\n",
        "test_dataloader = DataLoader(test_data, sampler=test_sampler, batch_size=batch_size)"
      ],
      "execution_count": 0,
      "outputs": []
    },
    {
      "cell_type": "code",
      "metadata": {
        "id": "oLXJBfD5ia8K",
        "colab_type": "code",
        "colab": {
          "base_uri": "https://localhost:8080/",
          "height": 34
        },
        "outputId": "8faa76dc-8425-41a8-a06d-2b9cd18e3c67"
      },
      "source": [
        "predictions = []\n",
        "pair_ids = []\n",
        "\n",
        "model.eval()\n",
        "\n",
        "# Tracking variables \n",
        "eval_loss, eval_accuracy = 0, 0\n",
        "nb_eval_steps, nb_eval_examples = 0, 0\n",
        "\n",
        "for batch in test_dataloader:\n",
        "\n",
        "    batch = tuple(t.to(device) for t in batch)\n",
        "          \n",
        "    # Unpack the inputs from dataloader\n",
        "    input_ids, attention_mask, sequence_ids, batch_pair_ids = batch\n",
        "\n",
        "    # no need for grad since evaluation\n",
        "    with torch.no_grad():        \n",
        "\n",
        "      outputs = model(input_ids = input_ids.long(),\n",
        "                          attention_mask = attention_mask.long(),\n",
        "                          token_type_ids = sequence_ids.long())\n",
        "          \n",
        "      logits = outputs[0]\n",
        "\n",
        "      # Move logits and labels to CPU\n",
        "      logits = logits.detach().cpu().numpy()\n",
        "      batch_pair_ids = batch_pair_ids.to('cpu').numpy()\n",
        "\n",
        "      for i in range(0,len(logits)): \n",
        "        sub_list = []\n",
        "        sub_list.append(float(logits[i][0]))\n",
        "        sub_list.append(float(logits[i][1]))\n",
        "        predictions.append(sub_list)\n",
        "        pair_ids.append('ex' + str(batch_pair_ids[i]))\n",
        "      \n",
        "df = pd.DataFrame()\n",
        "df['pairID'] = pair_ids\n",
        "df['gold_label'] = predictions\n",
        "df.to_csv('hans_predictions_post.csv', index=False)\n",
        "\n",
        "print('---- HANS Testing Completed ----')"
      ],
      "execution_count": 36,
      "outputs": [
        {
          "output_type": "stream",
          "text": [
            "---- HANS Testing Completed ----\n"
          ],
          "name": "stdout"
        }
      ]
    },
    {
      "cell_type": "code",
      "metadata": {
        "id": "a3d2iCMWjyxR",
        "colab_type": "code",
        "colab": {}
      },
      "source": [
        "# output to CSV file to submit in kaggle competition\n",
        "df = pd.DataFrame()\n",
        "df['pairID'] = pair_ids\n",
        "df['gold_label'] = predictions\n",
        "df.to_csv('hans_predictions_trained.csv', index=False)"
      ],
      "execution_count": 0,
      "outputs": []
    },
    {
      "cell_type": "code",
      "metadata": {
        "id": "DP0ThY1xkx0N",
        "colab_type": "code",
        "colab": {}
      },
      "source": [
        ""
      ],
      "execution_count": 0,
      "outputs": []
    }
  ]
}