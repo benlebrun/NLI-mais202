{
  "nbformat": 4,
  "nbformat_minor": 0,
  "metadata": {
    "colab": {
      "name": "interpreting_hans_results.ipynb",
      "provenance": [],
      "collapsed_sections": []
    },
    "kernelspec": {
      "name": "python3",
      "display_name": "Python 3"
    }
  },
  "cells": [
    {
      "cell_type": "code",
      "metadata": {
        "id": "NhktV0fqksjv",
        "colab_type": "code",
        "colab": {}
      },
      "source": [
        "import pandas as pd\n",
        "import numpy as np\n",
        "import re"
      ],
      "execution_count": 0,
      "outputs": []
    },
    {
      "cell_type": "markdown",
      "metadata": {
        "id": "Ui5NkFkpktyn",
        "colab_type": "text"
      },
      "source": [
        "### Interpreting HANS results\n",
        "This is a notebook in which we interpret the results obtained from testing BERT with the HANS. "
      ]
    },
    {
      "cell_type": "code",
      "metadata": {
        "id": "3rm5S2wolhP4",
        "colab_type": "code",
        "colab": {}
      },
      "source": [
        "# defining a function to convert logit output to csv with labels\n",
        "def build_label_csv(hans_output):\n",
        "  predictions = hans_output['gold_label']\n",
        "  label_predictions = []\n",
        "  for prediction in predictions:\n",
        "    # since output is in a string '[x, y]'\n",
        "    index0 = float(re.split(',', prediction.replace('[', '').replace(']', '').replace(' ',''))[0])\n",
        "    index1 = float(re.split(',', prediction.replace('[', '').replace(']', '').replace(' ',''))[1])\n",
        "    if index0 > index1:\n",
        "      label_predictions.append('entailment')\n",
        "    else:\n",
        "      label_predictions.append('non-entailment')\n",
        "    \n",
        "  return label_predictions"
      ],
      "execution_count": 0,
      "outputs": []
    },
    {
      "cell_type": "markdown",
      "metadata": {
        "id": "bG4H1txtk4cz",
        "colab_type": "text"
      },
      "source": [
        "------\n",
        "#### After training BERT on examples from HANS for one epoch\n",
        "Must upload the ```hans_predictions_trained.csv``` file."
      ]
    },
    {
      "cell_type": "code",
      "metadata": {
        "id": "BQeKhJ_EkwPR",
        "colab_type": "code",
        "colab": {}
      },
      "source": [
        "hans_output = pd.read_csv('hans_predictions_trained.csv')"
      ],
      "execution_count": 0,
      "outputs": []
    },
    {
      "cell_type": "code",
      "metadata": {
        "id": "xWLo1VA2ChU6",
        "colab_type": "code",
        "outputId": "d2b43551-5e0e-4355-8eed-b9bcac5663cf",
        "colab": {
          "base_uri": "https://localhost:8080/",
          "height": 204
        }
      },
      "source": [
        "hans_output.head(5)"
      ],
      "execution_count": 0,
      "outputs": [
        {
          "output_type": "execute_result",
          "data": {
            "text/html": [
              "<div>\n",
              "<style scoped>\n",
              "    .dataframe tbody tr th:only-of-type {\n",
              "        vertical-align: middle;\n",
              "    }\n",
              "\n",
              "    .dataframe tbody tr th {\n",
              "        vertical-align: top;\n",
              "    }\n",
              "\n",
              "    .dataframe thead th {\n",
              "        text-align: right;\n",
              "    }\n",
              "</style>\n",
              "<table border=\"1\" class=\"dataframe\">\n",
              "  <thead>\n",
              "    <tr style=\"text-align: right;\">\n",
              "      <th></th>\n",
              "      <th>pairID</th>\n",
              "      <th>gold_label</th>\n",
              "    </tr>\n",
              "  </thead>\n",
              "  <tbody>\n",
              "    <tr>\n",
              "      <th>0</th>\n",
              "      <td>ex19939</td>\n",
              "      <td>[3.734972, -4.0110707]</td>\n",
              "    </tr>\n",
              "    <tr>\n",
              "      <th>1</th>\n",
              "      <td>ex2510</td>\n",
              "      <td>[-3.7118118, 3.902585]</td>\n",
              "    </tr>\n",
              "    <tr>\n",
              "      <th>2</th>\n",
              "      <td>ex6977</td>\n",
              "      <td>[3.688711, -4.031746]</td>\n",
              "    </tr>\n",
              "    <tr>\n",
              "      <th>3</th>\n",
              "      <td>ex12480</td>\n",
              "      <td>[-3.645817, 3.9012985]</td>\n",
              "    </tr>\n",
              "    <tr>\n",
              "      <th>4</th>\n",
              "      <td>ex27201</td>\n",
              "      <td>[3.7094097, -3.9501584]</td>\n",
              "    </tr>\n",
              "  </tbody>\n",
              "</table>\n",
              "</div>"
            ],
            "text/plain": [
              "    pairID               gold_label\n",
              "0  ex19939   [3.734972, -4.0110707]\n",
              "1   ex2510   [-3.7118118, 3.902585]\n",
              "2   ex6977    [3.688711, -4.031746]\n",
              "3  ex12480   [-3.645817, 3.9012985]\n",
              "4  ex27201  [3.7094097, -3.9501584]"
            ]
          },
          "metadata": {
            "tags": []
          },
          "execution_count": 6
        }
      ]
    },
    {
      "cell_type": "code",
      "metadata": {
        "id": "D37ow0Rbrsnu",
        "colab_type": "code",
        "colab": {}
      },
      "source": [
        "# getting label predictions\n",
        "label_predictions = build_label_csv(hans_output)"
      ],
      "execution_count": 0,
      "outputs": []
    },
    {
      "cell_type": "code",
      "metadata": {
        "id": "SuUnjK-Flxsj",
        "colab_type": "code",
        "colab": {}
      },
      "source": [
        "df = pd.DataFrame() \n",
        "df['pair_id'] = hans_output['pairID']\n",
        "df['gold_label'] = label_predictions\n",
        "df.to_csv('hans_output_with_labels_e1.csv', index=False)"
      ],
      "execution_count": 0,
      "outputs": []
    },
    {
      "cell_type": "code",
      "metadata": {
        "id": "I8bc3tUjlGEs",
        "colab_type": "code",
        "outputId": "72d0b01b-04a8-43e3-99a8-c7deed9ca2d1",
        "colab": {
          "base_uri": "https://localhost:8080/",
          "height": 1000
        }
      },
      "source": [
        "!python evaluate_heur_output.py hans_output_with_labels_e1.csv"
      ],
      "execution_count": 0,
      "outputs": [
        {
          "output_type": "stream",
          "text": [
            "Heuristic entailed results:\n",
            "lexical_overlap: 1.0\n",
            "subsequence: 1.0\n",
            "constituent: 1.0\n",
            "\n",
            "Heuristic non-entailed results:\n",
            "lexical_overlap: 0.9996\n",
            "subsequence: 1.0\n",
            "constituent: 1.0\n",
            "\n",
            "Subcase results:\n",
            "ln_subject/object_swap: 1.0\n",
            "ln_preposition: 1.0\n",
            "ln_relative_clause: 0.998\n",
            "ln_passive: 1.0\n",
            "ln_conjunction: 1.0\n",
            "le_relative_clause: 1.0\n",
            "le_around_prepositional_phrase: 1.0\n",
            "le_around_relative_clause: 1.0\n",
            "le_conjunction: 1.0\n",
            "le_passive: 1.0\n",
            "sn_NP/S: 1.0\n",
            "sn_PP_on_subject: 1.0\n",
            "sn_relative_clause_on_subject: 1.0\n",
            "sn_past_participle: 1.0\n",
            "sn_NP/Z: 1.0\n",
            "se_conjunction: 1.0\n",
            "se_adjective: 1.0\n",
            "se_understood_object: 1.0\n",
            "se_relative_clause_on_obj: 1.0\n",
            "se_PP_on_obj: 1.0\n",
            "cn_embedded_under_if: 1.0\n",
            "cn_after_if_clause: 1.0\n",
            "cn_embedded_under_verb: 1.0\n",
            "cn_disjunction: 1.0\n",
            "cn_adverb: 1.0\n",
            "ce_embedded_under_since: 1.0\n",
            "ce_after_since_clause: 1.0\n",
            "ce_embedded_under_verb: 1.0\n",
            "ce_conjunction: 1.0\n",
            "ce_adverb: 1.0\n",
            "\n",
            "Template results:\n",
            "temp1: 1.0\n",
            "temp5: 1.0\n",
            "temp7: 1.0\n",
            "temp3: 1.0\n",
            "temp2: 1.0\n",
            "temp4: 1.0\n",
            "temp6: 1.0\n",
            "temp11: 1.0\n",
            "temp9: 1.0\n",
            "temp15: 1.0\n",
            "temp16: 1.0\n",
            "temp10: 1.0\n",
            "temp8: 0.9710144927536232\n",
            "temp18: 1.0\n",
            "temp12: 1.0\n",
            "temp14: 1.0\n",
            "temp19: 1.0\n",
            "temp13: 1.0\n",
            "temp17: 1.0\n",
            "temp21: 1.0\n",
            "temp20: 1.0\n",
            "temp22: 1.0\n",
            "temp25: 1.0\n",
            "temp24: 1.0\n",
            "temp23: 1.0\n",
            "temp28: 1.0\n",
            "temp26: 1.0\n",
            "temp29: 1.0\n",
            "temp27: 1.0\n",
            "temp30: 1.0\n",
            "temp31: 1.0\n",
            "temp32: 1.0\n",
            "temp33: 1.0\n",
            "temp36: 1.0\n",
            "temp35: 1.0\n",
            "temp37: 1.0\n",
            "temp38: 1.0\n",
            "temp39: 1.0\n",
            "temp40: 1.0\n",
            "temp41: 1.0\n",
            "temp42: 1.0\n",
            "temp43: 1.0\n",
            "temp44: 1.0\n",
            "temp45: 1.0\n",
            "temp46: 1.0\n",
            "temp47: 1.0\n",
            "temp48: 1.0\n",
            "temp49: 1.0\n",
            "temp50: 1.0\n",
            "temp51: 1.0\n",
            "temp52: 1.0\n",
            "temp53: 1.0\n",
            "temp54: 1.0\n",
            "temp58: 1.0\n",
            "temp59: 1.0\n",
            "temp60: 1.0\n",
            "temp61: 1.0\n",
            "temp63: 1.0\n",
            "temp62: 1.0\n",
            "temp68: 1.0\n"
          ],
          "name": "stdout"
        }
      ]
    },
    {
      "cell_type": "markdown",
      "metadata": {
        "id": "zzZaHyqGsTqU",
        "colab_type": "text"
      },
      "source": [
        "-----\n",
        "#### After two epochs\n",
        "Must upload the ```hans_predictions_trained_2.csv``` file."
      ]
    },
    {
      "cell_type": "code",
      "metadata": {
        "id": "twzaUSWvmE1T",
        "colab_type": "code",
        "colab": {}
      },
      "source": [
        "hans_output_2 = pd.read_csv('/content/hans_predictions_trained_2.csv')"
      ],
      "execution_count": 0,
      "outputs": []
    },
    {
      "cell_type": "code",
      "metadata": {
        "id": "_hNK4ly8sauD",
        "colab_type": "code",
        "colab": {}
      },
      "source": [
        "label_predictions_2 = build_label_csv(hans_output_2)"
      ],
      "execution_count": 0,
      "outputs": []
    },
    {
      "cell_type": "code",
      "metadata": {
        "id": "RbRWuvvysg6w",
        "colab_type": "code",
        "colab": {}
      },
      "source": [
        "df2 = pd.DataFrame()\n",
        "df2['pair_id'] = hans_output_2['pairID']\n",
        "df2['gold_label'] = label_predictions_2\n",
        "df.to_csv('hans_output_with_labels_e2.csv', index=False)"
      ],
      "execution_count": 0,
      "outputs": []
    },
    {
      "cell_type": "code",
      "metadata": {
        "id": "TUZHebHXsneG",
        "colab_type": "code",
        "outputId": "ba345cf2-578e-4e32-bc34-37a81b4cf334",
        "colab": {
          "base_uri": "https://localhost:8080/",
          "height": 1000
        }
      },
      "source": [
        "!python evaluate_heur_output.py hans_output_with_labels_e2.csv"
      ],
      "execution_count": 0,
      "outputs": [
        {
          "output_type": "stream",
          "text": [
            "Heuristic entailed results:\n",
            "lexical_overlap: 1.0\n",
            "subsequence: 1.0\n",
            "constituent: 1.0\n",
            "\n",
            "Heuristic non-entailed results:\n",
            "lexical_overlap: 0.9996\n",
            "subsequence: 1.0\n",
            "constituent: 1.0\n",
            "\n",
            "Subcase results:\n",
            "ln_subject/object_swap: 1.0\n",
            "ln_preposition: 1.0\n",
            "ln_relative_clause: 0.998\n",
            "ln_passive: 1.0\n",
            "ln_conjunction: 1.0\n",
            "le_relative_clause: 1.0\n",
            "le_around_prepositional_phrase: 1.0\n",
            "le_around_relative_clause: 1.0\n",
            "le_conjunction: 1.0\n",
            "le_passive: 1.0\n",
            "sn_NP/S: 1.0\n",
            "sn_PP_on_subject: 1.0\n",
            "sn_relative_clause_on_subject: 1.0\n",
            "sn_past_participle: 1.0\n",
            "sn_NP/Z: 1.0\n",
            "se_conjunction: 1.0\n",
            "se_adjective: 1.0\n",
            "se_understood_object: 1.0\n",
            "se_relative_clause_on_obj: 1.0\n",
            "se_PP_on_obj: 1.0\n",
            "cn_embedded_under_if: 1.0\n",
            "cn_after_if_clause: 1.0\n",
            "cn_embedded_under_verb: 1.0\n",
            "cn_disjunction: 1.0\n",
            "cn_adverb: 1.0\n",
            "ce_embedded_under_since: 1.0\n",
            "ce_after_since_clause: 1.0\n",
            "ce_embedded_under_verb: 1.0\n",
            "ce_conjunction: 1.0\n",
            "ce_adverb: 1.0\n",
            "\n",
            "Template results:\n",
            "temp1: 1.0\n",
            "temp5: 1.0\n",
            "temp7: 1.0\n",
            "temp3: 1.0\n",
            "temp2: 1.0\n",
            "temp4: 1.0\n",
            "temp6: 1.0\n",
            "temp11: 1.0\n",
            "temp9: 1.0\n",
            "temp15: 1.0\n",
            "temp16: 1.0\n",
            "temp10: 1.0\n",
            "temp8: 0.9710144927536232\n",
            "temp18: 1.0\n",
            "temp12: 1.0\n",
            "temp14: 1.0\n",
            "temp19: 1.0\n",
            "temp13: 1.0\n",
            "temp17: 1.0\n",
            "temp21: 1.0\n",
            "temp20: 1.0\n",
            "temp22: 1.0\n",
            "temp25: 1.0\n",
            "temp24: 1.0\n",
            "temp23: 1.0\n",
            "temp28: 1.0\n",
            "temp26: 1.0\n",
            "temp29: 1.0\n",
            "temp27: 1.0\n",
            "temp30: 1.0\n",
            "temp31: 1.0\n",
            "temp32: 1.0\n",
            "temp33: 1.0\n",
            "temp36: 1.0\n",
            "temp35: 1.0\n",
            "temp37: 1.0\n",
            "temp38: 1.0\n",
            "temp39: 1.0\n",
            "temp40: 1.0\n",
            "temp41: 1.0\n",
            "temp42: 1.0\n",
            "temp43: 1.0\n",
            "temp44: 1.0\n",
            "temp45: 1.0\n",
            "temp46: 1.0\n",
            "temp47: 1.0\n",
            "temp48: 1.0\n",
            "temp49: 1.0\n",
            "temp50: 1.0\n",
            "temp51: 1.0\n",
            "temp52: 1.0\n",
            "temp53: 1.0\n",
            "temp54: 1.0\n",
            "temp58: 1.0\n",
            "temp59: 1.0\n",
            "temp60: 1.0\n",
            "temp61: 1.0\n",
            "temp63: 1.0\n",
            "temp62: 1.0\n",
            "temp68: 1.0\n"
          ],
          "name": "stdout"
        }
      ]
    },
    {
      "cell_type": "code",
      "metadata": {
        "id": "4UpsHl0zspUv",
        "colab_type": "code",
        "colab": {}
      },
      "source": [
        ""
      ],
      "execution_count": 0,
      "outputs": []
    },
    {
      "cell_type": "markdown",
      "metadata": {
        "id": "FJQJpocEFmAn",
        "colab_type": "text"
      },
      "source": [
        "-----\n",
        "After training on only 3,000 HANS examples"
      ]
    },
    {
      "cell_type": "code",
      "metadata": {
        "id": "xsbtOBEqFpx1",
        "colab_type": "code",
        "colab": {}
      },
      "source": [
        "hans_output_3000 = pd.read_csv('/content/hans_predictions_trained_3000.csv')"
      ],
      "execution_count": 0,
      "outputs": []
    },
    {
      "cell_type": "code",
      "metadata": {
        "id": "mr0dVj09bEYv",
        "colab_type": "code",
        "colab": {}
      },
      "source": [
        "label_predictions_3000 = build_label_csv(hans_output_3000)"
      ],
      "execution_count": 0,
      "outputs": []
    },
    {
      "cell_type": "code",
      "metadata": {
        "id": "K613CvR5bLHY",
        "colab_type": "code",
        "colab": {}
      },
      "source": [
        "df3 = pd.DataFrame() \n",
        "df3['pair_id'] = hans_output_3000['pairID']\n",
        "df3['gold_label'] = label_predictions_3000\n",
        "df3.to_csv('hans_output_with_labels_3000.csv', index=False)"
      ],
      "execution_count": 0,
      "outputs": []
    },
    {
      "cell_type": "code",
      "metadata": {
        "id": "JHrwrIcgbZr9",
        "colab_type": "code",
        "colab": {
          "base_uri": "https://localhost:8080/",
          "height": 1000
        },
        "outputId": "7fa9c84f-d0f7-4a7f-d14f-c669124e6c79"
      },
      "source": [
        "!python evaluate_heur_output.py hans_output_with_labels_3000.csv"
      ],
      "execution_count": 12,
      "outputs": [
        {
          "output_type": "stream",
          "text": [
            "Heuristic entailed results:\n",
            "lexical_overlap: 0.9528\n",
            "subsequence: 0.9938\n",
            "constituent: 0.9898\n",
            "\n",
            "Heuristic non-entailed results:\n",
            "lexical_overlap: 0.9752\n",
            "subsequence: 0.9536\n",
            "constituent: 0.9982\n",
            "\n",
            "Subcase results:\n",
            "ln_subject/object_swap: 0.978\n",
            "ln_preposition: 0.984\n",
            "ln_relative_clause: 0.965\n",
            "ln_passive: 1.0\n",
            "ln_conjunction: 0.949\n",
            "le_relative_clause: 0.776\n",
            "le_around_prepositional_phrase: 1.0\n",
            "le_around_relative_clause: 0.997\n",
            "le_conjunction: 0.992\n",
            "le_passive: 0.999\n",
            "sn_NP/S: 0.948\n",
            "sn_PP_on_subject: 0.986\n",
            "sn_relative_clause_on_subject: 0.999\n",
            "sn_past_participle: 0.999\n",
            "sn_NP/Z: 0.836\n",
            "se_conjunction: 0.979\n",
            "se_adjective: 1.0\n",
            "se_understood_object: 1.0\n",
            "se_relative_clause_on_obj: 0.99\n",
            "se_PP_on_obj: 1.0\n",
            "cn_embedded_under_if: 1.0\n",
            "cn_after_if_clause: 1.0\n",
            "cn_embedded_under_verb: 0.991\n",
            "cn_disjunction: 1.0\n",
            "cn_adverb: 1.0\n",
            "ce_embedded_under_since: 0.95\n",
            "ce_after_since_clause: 1.0\n",
            "ce_embedded_under_verb: 0.999\n",
            "ce_conjunction: 1.0\n",
            "ce_adverb: 1.0\n",
            "\n",
            "Template results:\n",
            "temp1: 0.978\n",
            "temp5: 0.9490445859872612\n",
            "temp7: 1.0\n",
            "temp3: 0.9653179190751445\n",
            "temp2: 0.9887005649717514\n",
            "temp4: 1.0\n",
            "temp6: 1.0\n",
            "temp11: 1.0\n",
            "temp9: 0.9900990099009901\n",
            "temp15: 0.93\n",
            "temp16: 0.9875\n",
            "temp10: 1.0\n",
            "temp8: 0.7391304347826086\n",
            "temp18: 1.0\n",
            "temp12: 0.9629629629629629\n",
            "temp14: 0.9753086419753086\n",
            "temp19: 0.9767441860465116\n",
            "temp13: 1.0\n",
            "temp17: 0.9852941176470589\n",
            "temp21: 1.0\n",
            "temp20: 1.0\n",
            "temp22: 0.9533898305084746\n",
            "temp25: 0.9517543859649122\n",
            "temp24: 0.9965635738831615\n",
            "temp23: 0.8857142857142857\n",
            "temp28: 0.7734375\n",
            "temp26: 0.6879699248120301\n",
            "temp29: 0.8142292490118577\n",
            "temp27: 0.84\n",
            "temp30: 1.0\n",
            "temp31: 0.997\n",
            "temp32: 1.0\n",
            "temp33: 0.984251968503937\n",
            "temp36: 0.9979591836734694\n",
            "temp35: 1.0\n",
            "temp37: 0.948\n",
            "temp38: 0.986\n",
            "temp39: 0.999\n",
            "temp40: 1.0\n",
            "temp41: 0.9975308641975309\n",
            "temp42: 0.808235294117647\n",
            "temp43: 0.9933333333333333\n",
            "temp44: 0.965964343598055\n",
            "temp45: 1.0\n",
            "temp46: 1.0\n",
            "temp47: 1.0\n",
            "temp48: 0.99\n",
            "temp49: 1.0\n",
            "temp50: 1.0\n",
            "temp51: 1.0\n",
            "temp52: 0.991\n",
            "temp53: 1.0\n",
            "temp54: 1.0\n",
            "temp58: 1.0\n",
            "temp59: 0.95\n",
            "temp60: 1.0\n",
            "temp61: 0.999\n",
            "temp63: 1.0\n",
            "temp62: 1.0\n",
            "temp68: 1.0\n"
          ],
          "name": "stdout"
        }
      ]
    },
    {
      "cell_type": "code",
      "metadata": {
        "id": "Si9XyNW_bf17",
        "colab_type": "code",
        "colab": {}
      },
      "source": [
        ""
      ],
      "execution_count": 0,
      "outputs": []
    }
  ]
}